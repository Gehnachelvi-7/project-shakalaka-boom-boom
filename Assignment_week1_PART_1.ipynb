{
 "cells": [
  {
   "cell_type": "code",
   "execution_count": 1,
   "id": "35c73042-8016-4d23-a01e-e78b2ae2ed0e",
   "metadata": {},
   "outputs": [
    {
     "name": "stdin",
     "output_type": "stream",
     "text": [
      "enter a value =  3.8\n"
     ]
    },
    {
     "name": "stdout",
     "output_type": "stream",
     "text": [
      "3.8\n"
     ]
    }
   ],
   "source": [
    "number = float(input(\"enter a value = \"))\n",
    "print(number)"
   ]
  },
  {
   "cell_type": "code",
   "execution_count": 3,
   "id": "c83bb33a-863d-45a9-955d-61d45703a3cc",
   "metadata": {},
   "outputs": [
    {
     "name": "stdin",
     "output_type": "stream",
     "text": [
      "enter a value= 3.2\n"
     ]
    },
    {
     "name": "stdout",
     "output_type": "stream",
     "text": [
      "n=3.2 is not an integer\n"
     ]
    },
    {
     "name": "stdin",
     "output_type": "stream",
     "text": [
      "enter a value= 4\n"
     ]
    },
    {
     "name": "stdout",
     "output_type": "stream",
     "text": [
      "n=4.0 is an integer\n",
      "n=4.0 is even number\n"
     ]
    }
   ],
   "source": [
    "n= float(input(\"enter a value=\"))\n",
    "while True:\n",
    "    if n!= int(n):\n",
    "        print(f\"n={n} is not an integer\")\n",
    "    else:\n",
    "        print(f\"n={n} is an integer\")\n",
    "        break\n",
    "    n= float(input(\"enter a value=\"))\n",
    "if n==int(n) :\n",
    "   if n%2==0 :\n",
    "       print(f\"n={n} is even number\")\n",
    "   else :\n",
    "       print(f\"n={n} is odd number\")"
   ]
  },
  {
   "cell_type": "code",
   "execution_count": 5,
   "id": "6890fd2d-e6e9-4c2d-8e7d-99944128c3f2",
   "metadata": {},
   "outputs": [
    {
     "name": "stdin",
     "output_type": "stream",
     "text": [
      "Enter a number for size of the matrix:  2\n"
     ]
    },
    {
     "name": "stdout",
     "output_type": "stream",
     "text": [
      "Enter the elements of the matrix:\n"
     ]
    },
    {
     "name": "stdin",
     "output_type": "stream",
     "text": [
      "Element [0][0]:  1\n",
      "Element [0][1]:  1\n",
      "Element [1][0]:  1\n",
      "Element [1][1]:  1\n"
     ]
    },
    {
     "name": "stdout",
     "output_type": "stream",
     "text": [
      "The matrix is not diagonally dominant.\n"
     ]
    }
   ],
   "source": [
    "import numpy as np\n",
    "n = int(input(\"Enter a number for size of the matrix: \"))\n",
    "arr = np.zeros((n, n))\n",
    "# Take matrix elements as input\n",
    "print(\"Enter the elements of the matrix:\")\n",
    "for i in range(n):\n",
    "    for j in range(n):\n",
    "        arr[i][j] = float(input(f\"Element [{i}][{j}]: \"))\n",
    "\n",
    "# Function to check if the matrix is diagonally dominant\n",
    "def diagonally_dominant(matrix):\n",
    "    n = matrix.shape[0]\n",
    "    for i in range(n):\n",
    "        diagonal_element = abs(matrix[i][i])\n",
    "        off_diagonal_elements_sum = sum(abs(matrix[i][j]) for j in range(n) if j != i)\n",
    "        if diagonal_element <= off_diagonal_elements_sum:\n",
    "            return False\n",
    "            return True\n",
    "\n",
    "# Check if the matrix is diagonally dominant\n",
    "if diagonally_dominant(arr):\n",
    "    print(\"The matrix is diagonally dominant.\")\n",
    "else:\n",
    "    print(\"The matrix is not diagonally dominant.\")\n"
   ]
  },
  {
   "cell_type": "code",
   "execution_count": 6,
   "id": "5004490f-12cf-4e0f-b63f-734288d2f993",
   "metadata": {},
   "outputs": [
    {
     "name": "stdout",
     "output_type": "stream",
     "text": [
      "Original matrix: \n",
      "[[  90   69    0   -1   -3]\n",
      " [   4    2    3    7  406]\n",
      " [  11  -12   -3   43   33]\n",
      " [   7    7   -1   -9 -100]\n",
      " [ 100   62    2    1   11]]\n",
      "____________________________________________________________________________________________________ \n",
      "\n",
      "Adjusting row 1 :\n",
      "[[  90   69    0   -1   -3]\n",
      " [   4    2    3    7  406]\n",
      " [  11  -12   -3   43   33]\n",
      " [   7    7   -1   -9 -100]\n",
      " [ 100   62    2    1   11]]\n",
      "____________________________________________________________________________________________________\n",
      "Adjusting row 2 :\n",
      "[[  90   69    0   -1   -3]\n",
      " [   4  406    3    7    2]\n",
      " [  11  -12   -3   43   33]\n",
      " [   7    7   -1   -9 -100]\n",
      " [ 100   62    2    1   11]]\n",
      "____________________________________________________________________________________________________\n",
      "Adjusting row 3 :\n",
      "[[  90   69    0   -1   -3]\n",
      " [   4  406    3    7    2]\n",
      " [  11  -12   43   -3   33]\n",
      " [   7    7   -1   -9 -100]\n",
      " [ 100   62    2    1   11]]\n",
      "____________________________________________________________________________________________________\n",
      "Adjusting row 4 :\n",
      "[[  90   69    0   -1   -3]\n",
      " [   4  406    3    7    2]\n",
      " [  11  -12   43   -3   33]\n",
      " [   7    7   -1 -100   -9]\n",
      " [ 100   62    2    1   11]]\n",
      "____________________________________________________________________________________________________\n",
      "Adjusting row 5 :\n",
      "[[  90   69    0   -1   -3]\n",
      " [   4  406    3    7    2]\n",
      " [  11  -12   43   -3   33]\n",
      " [   7    7   -1 -100   -9]\n",
      " [  11   62    2    1  100]]\n",
      "____________________________________________________________________________________________________\n",
      "____________________________________________________________________________________________________ \n",
      "\n",
      "Matrix obtained is: \n",
      "[[  90   69    0   -1   -3]\n",
      " [   4  406    3    7    2]\n",
      " [  11  -12   43   -3   33]\n",
      " [   7    7   -1 -100   -9]\n",
      " [  11   62    2    1  100]]\n"
     ]
    }
   ],
   "source": [
    "def diagonallyDominant(arr, verbose=False):\n",
    "    n = arr.shape[0]\n",
    "    for i in range(n):\n",
    "        max_val = max(abs(arr[i, j]) for j in range(n) if j != i)\n",
    "        max_index = np.argmax(np.abs(arr[i, :]))\n",
    "        arr[i, i], arr[i, max_index] = arr[i, max_index], arr[i, i]\n",
    "        if verbose:\n",
    "            print(\"Adjusting row\", i + 1, \":\")\n",
    "            print(arr)\n",
    "            print(\"_\"*100)\n",
    "    return arr\n",
    "arr = np.array([[90, 69, 0, -1, -3],\n",
    "                [4, 2, 3, 7, 406],\n",
    "                [11, -12, -3, 43, 33],\n",
    "                [7, 7, -1, -9, -100],\n",
    "                [100, 62, 2, 1, 11]])\n",
    "print(\"Original matrix: \")\n",
    "print(arr)\n",
    "print(\"_\"*100,\"\\n\")\n",
    "A = diagonallyDominant(arr, verbose=True)\n",
    "print(\"_\"*100,\"\\n\")\n",
    "print(\"Matrix obtained is: \")\n",
    "print(A)"
   ]
  },
  {
   "cell_type": "code",
   "execution_count": 7,
   "id": "084e51ec-7603-48af-b460-87163f9cc701",
   "metadata": {},
   "outputs": [
    {
     "name": "stdout",
     "output_type": "stream",
     "text": [
      "[[  90   69    0   -1   -3]\n",
      " [   4  406    3    7    2]\n",
      " [  11  -12   43   -3   33]\n",
      " [   7    7   -1 -100   -9]\n",
      " [  11   62    2    1  100]]\n",
      " is not diagonally dominant\n",
      "The following row(s) are not diagonally dominant:\n",
      "Row with index 2: [ 11 -12  43  -3  33]\n"
     ]
    }
   ],
   "source": [
    "row_sum = 0\n",
    "cnt = 0\n",
    "arr = A\n",
    "n = arr.shape[0]\n",
    "problematic_rows = []\n",
    "for i in range(n):\n",
    "    row_sum = np.sum(np.abs(arr[i,:])) - np.abs(arr[i,i])\n",
    "    if np.abs(arr[i,i]) > row_sum:\n",
    "        cnt += 1\n",
    "    else :\n",
    "        problematic_rows.append((i,A[i,:]))\n",
    "\n",
    "if cnt == n:\n",
    "    print(f\"{A} is diagonally dominant\")\n",
    "else:\n",
    "    print(f\"{A}\\n is not diagonally dominant\")\n",
    "    print(\"The following row(s) are not diagonally dominant:\")\n",
    "    for row_index, row_elements in problematic_rows:\n",
    "        print(f\"Row with index {row_index}: {row_elements}\")"
   ]
  },
  {
   "cell_type": "code",
   "execution_count": 8,
   "id": "98d28e62-c469-48d0-be5f-572527982e85",
   "metadata": {},
   "outputs": [
    {
     "data": {
      "text/plain": [
       "Text(0, 0.5, 'tanh(x)')"
      ]
     },
     "execution_count": 8,
     "metadata": {},
     "output_type": "execute_result"
    },
    {
     "data": {
      "image/png": "[encoded data removed]",
      "text/plain": [
       "<Figure size 1200x1200 with 2 Axes>"
      ]
     },
     "metadata": {},
     "output_type": "display_data"
    }
   ],
   "source": [
    "import math\n",
    "import numpy as np\n",
    "from matplotlib import pyplot as plt\n",
    "\n",
    "# Define activation functions\n",
    "def relu(x):\n",
    "    return np.maximum(0, x)\n",
    "def sigmoid(x):\n",
    "    return 1 / (1 + np.exp(-x))\n",
    "def tanh(x):\n",
    "    return np.tanh(x)\n",
    "\n",
    "# Generate x values from -100 to 100\n",
    "x = np.linspace(-100, 100, 10000)\n",
    "\n",
    "# Compute y values for each activation function\n",
    "y_relu = relu(x)\n",
    "y_sigmoid = sigmoid(x)\n",
    "y_tanh = tanh(x)\n",
    "plt.figure(figsize=(12,12))\n",
    "plt.subplot(2,1,1)\n",
    "plt.plot(x, y_relu, label='ReLU')\n",
    "plt.title('ReLU Function')\n",
    "plt.subplot(2,1,1)\n",
    "plt.xlabel('x')\n",
    "plt.ylabel('ReLU(x)')\n",
    "plt.subplot(2,1,2)\n",
    "plt.plot(x,y_sigmoid,x,y_tanh)\n",
    "plt.title('sigmoid function')\n",
    "plt.xlabel('x')\n",
    "plt.ylabel('sigmoid(x)')\n",
    "plt.title('tanh function')\n",
    "plt.xlabel('x')\n",
    "plt.ylabel('tanh(x)')"
   ]
  },
  {
   "cell_type": "code",
   "execution_count": 9,
   "id": "c7949265-e1d6-44c0-bad3-82b66f02fa34",
   "metadata": {},
   "outputs": [
    {
     "data": {
      "image/png": "[encoded data removed]",
      "text/plain": [
       "<Figure size 640x480 with 1 Axes>"
      ]
     },
     "metadata": {},
     "output_type": "display_data"
    }
   ],
   "source": [
    "x = []\n",
    "y_relu = []\n",
    "y_sigmoid = []\n",
    "y_tanh = []\n",
    "n= arr.shape[0]\n",
    "for i in range(n):\n",
    "    x.append(A[i,i])\n",
    "\n",
    "for i in range(len(x)):\n",
    "    y_relu.append(max(0, x[i]))\n",
    "    y_sigmoid.append(1 / (1+ np.exp(-x[i])))\n",
    "    y_tanh.append(np.tanh(x[i]))\n",
    "\n",
    "plt.scatter(x, y_relu,marker = 'o')\n",
    "plt.scatter(x, y_sigmoid,marker = '*')\n",
    "plt.scatter(x, y_tanh,marker = '+')\n",
    "plt.show()"
   ]
  },
  {
   "cell_type": "code",
   "execution_count": 10,
   "id": "e9e7aeb9-5457-4448-ac28-d77d7c2e83be",
   "metadata": {},
   "outputs": [
    {
     "name": "stdout",
     "output_type": "stream",
     "text": [
      "Softmax of the diagonal elements of the matrix :\n",
      " [5.79353612e-138 1.00000000e+000 2.24441452e-158 1.76600593e-220\n",
      " 1.27611125e-133]\n"
     ]
    }
   ],
   "source": [
    "import numpy as np\n",
    "\n",
    "def softmax(arr):\n",
    "    n = arr.shape[0]\n",
    "    dd = np.zeros(n)\n",
    "    \n",
    "    for i in range(n):\n",
    "        dd[i] = np.exp(arr[i,i]) / np.sum(np.exp(np.diag(arr)))\n",
    "    \n",
    "    return dd\n",
    "\n",
    "arr = np.array([[90,69,0,-1,-3],[4,406,3,7,2],[11,-12,43,-3,33],[7,7,-1,-100,-9],[11,62,2,1,100]])\n",
    "print(\"Softmax of the diagonal elements of the matrix :\\n\", softmax(arr))"
   ]
  },
  {
   "cell_type": "code",
   "execution_count": 11,
   "id": "2f78b2a5-46ac-47dd-ae71-43a7b769d580",
   "metadata": {},
   "outputs": [
    {
     "data": {
      "image/png": "[encoded data removed]",
      "text/plain": [
       "<Figure size 640x480 with 1 Axes>"
      ]
     },
     "metadata": {},
     "output_type": "display_data"
    }
   ],
   "source": [
    "import numpy as np\n",
    "import matplotlib.pyplot as plt\n",
    "\n",
    "def softmax(arr):\n",
    "    n = arr.shape[0]\n",
    "    dd = np.zeros(n)\n",
    "    \n",
    "    for i in range(n):\n",
    "        dd[i] = np.exp(arr[i,i]) / np.sum(np.exp(np.diag(arr)))\n",
    "    \n",
    "    return dd\n",
    "\n",
    "arr = np.array([[90,69,0,-1,-3],\n",
    "                [4,406,3,7,2],\n",
    "                [11,-12,43,-3,33],\n",
    "                [7,7,-1,-100,-9],\n",
    "                [11,62,2,1,100]])\n",
    "\n",
    "d = np.diag(arr)\n",
    "s= softmax(arr)\n",
    "\n",
    "plt.scatter(s,d, marker='o')\n",
    "plt.show()"
   ]
  },
  {
   "cell_type": "code",
   "execution_count": 12,
   "id": "4b1e34b2-d00c-4e24-a5e1-bc2264154e95",
   "metadata": {},
   "outputs": [
    {
     "name": "stdout",
     "output_type": "stream",
     "text": [
      "90 : Not a max element in all diagonal elements\n",
      "406 : Max element in all diagonal elements\n",
      "43 : Not a max element in all diagonal elements\n",
      "-100 : Not a max element in all diagonal elements\n",
      "100 : Not a max element in all diagonal elements\n"
     ]
    }
   ],
   "source": [
    "import numpy as np\n",
    "\n",
    "def softmax(arr):\n",
    "    n = arr.shape[0]\n",
    "    dd = np.zeros(n)\n",
    "    \n",
    "    for i in range(n):\n",
    "        dd[i] = np.exp(arr[i,i]) / np.sum(np.exp(np.diag(arr)))\n",
    "    \n",
    "    return dd\n",
    "\n",
    "arr = np.array([[90,69,0,-1,-3],\n",
    "                [4,406,3,7,2],\n",
    "                [11,-12,43,-3,33],\n",
    "                [7,7,-1,-100,-9],\n",
    "                [11,62,2,1,100]])\n",
    "\n",
    "diagonalelements = np.diag(arr)\n",
    "softmax_diagonal = softmax(arr)\n",
    "\n",
    "maxindex = np.argmax(diagonalelements)\n",
    "max_softmax_index = np.argmax(softmax_diagonal)\n",
    "\n",
    "maxelement = diagonalelements[maxindex]\n",
    "\n",
    "for i in range(len(diagonalelements)):\n",
    "    if i == maxindex:\n",
    "        print(f\"{maxelement} : Max element in all diagonal elements\")\n",
    "    else:\n",
    "        print(f\"{diagonalelements[i]} : Not a max element in all diagonal elements\")"
   ]
  },
  {
   "cell_type": "code",
   "execution_count": null,
   "id": "4fd63eb4-2fb2-496f-b09c-ca66905cf6c4",
   "metadata": {},
   "outputs": [],
   "source": []
  }
 ],
 "metadata": {
  "kernelspec": {
   "display_name": "Python 3 (ipykernel)",
   "language": "python",
   "name": "python3"
  },
  "language_info": {
   "codemirror_mode": {
    "name": "ipython",
    "version": 3
   },
   "file_extension": ".py",
   "mimetype": "text/x-python",
   "name": "python",
   "nbconvert_exporter": "python",
   "pygments_lexer": "ipython3",
   "version": "3.12.3"
  }
 },
 "nbformat": 4,
 "nbformat_minor": 5
}
